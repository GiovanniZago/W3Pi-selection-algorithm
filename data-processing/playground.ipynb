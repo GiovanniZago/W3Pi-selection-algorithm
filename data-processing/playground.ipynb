{
 "cells": [
  {
   "cell_type": "code",
   "execution_count": 12,
   "metadata": {},
   "outputs": [],
   "source": [
    "import uproot\n",
    "import awkward as ak\n",
    "import matplotlib.pyplot as plt\n",
    "import numpy as np\n",
    "\n",
    "DATA_PATH = \"/home/giovanni/pod/thesis/code/scripts-sources/W3Pi-selection-algorithm/data/\""
   ]
  },
  {
   "cell_type": "code",
   "execution_count": 14,
   "metadata": {},
   "outputs": [
    {
     "name": "stdout",
     "output_type": "stream",
     "text": [
      "['run', 'luminosityBlock', 'event', 'bunchCrossing', 'orbitNumber', 'nEle', 'Ele_hwEta', 'Ele_hwPhi', 'Ele_hwPt', 'Ele_hwQual', 'Ele_quality', 'Ele_eta', 'Ele_idScore', 'Ele_mass', 'Ele_phi', 'Ele_pt', 'Ele_puppiIsol', 'Ele_puppiIsolPV', 'Ele_trkIsol', 'Ele_trkIsolPV', 'Ele_z0', 'nGenEle', 'GenEle_isFromTau', 'GenEle_isPrompt', 'GenEle_motherId', 'GenEle_dxy', 'GenEle_eta', 'GenEle_mass', 'GenEle_phi', 'GenEle_pt', 'GenEle_z0', 'nGenJet', 'GenJet_eta', 'GenJet_mass', 'GenJet_phi', 'GenJet_pt', 'nGenPho', 'GenPho_isFromTau', 'GenPho_isPrompt', 'GenPho_motherId', 'GenPho_dxy', 'GenPho_eta', 'GenPho_mass', 'GenPho_phi', 'GenPho_pt', 'GenPho_z0', 'nGenPi', 'GenPi_charge', 'GenPi_pdgId', 'GenPi_prompt', 'GenPi_eta', 'GenPi_mass', 'GenPi_phi', 'GenPi_pt', 'GenPi_z0', 'GenVtx_x', 'GenVtx_y', 'GenVtx_z', 'nGenW', 'GenW_charge', 'GenW_pdgId', 'GenW_eta', 'GenW_mass', 'GenW_phi', 'GenW_pt', 'GenW_z0', 'nL1Vtx', 'L1Vtx_sumpt', 'L1Vtx_z', 'nPho', 'Pho_hwEta', 'Pho_hwPhi', 'Pho_hwPt', 'Pho_hwQual', 'Pho_quality', 'Pho_eta', 'Pho_mass', 'Pho_phi', 'Pho_pt', 'Pho_puppiIsol', 'Pho_puppiIsolPV', 'Pho_trkIsol', 'Pho_trkIsolPV', 'nPuppiJet', 'PuppiJet_eta', 'PuppiJet_mass', 'PuppiJet_phi', 'PuppiJet_pt', 'PuppiJet_btagScore', 'nPuppi', 'Puppi_charge', 'Puppi_pdgId', 'Puppi_eta', 'Puppi_mass', 'Puppi_phi', 'Puppi_pt', 'Puppi_z0', 'Ele_GenEleFlav', 'Ele_GenEleIdx', 'Pho_GenPhoFlav', 'Pho_GenPhoIdx', 'Puppi_GenPiFlav', 'Puppi_GenPiIdx']\n",
      "33947\n"
     ]
    }
   ],
   "source": [
    "with uproot.open(DATA_PATH + \"l1Nano_WTo3Pion_PU200.root\") as f:\n",
    "    tree = f.get(\"Events\")\n",
    "    print(tree.keys())\n",
    "\n",
    "    branches = tree.arrays()\n",
    "    genPi_etas = branches[\"GenPi_eta\"].to_numpy()\n",
    "    genPi_pts = branches[\"GenPi_pt\"].to_numpy()\n",
    "\n",
    "    n_gen_acceptance = 0\n",
    "\n",
    "    for genPi_triplet_etas, genPi_triplet_pts in zip(genPi_etas, genPi_pts):\n",
    "        if np.all(genPi_triplet_etas < 2.4) and np.all(genPi_triplet_pts >= 2):\n",
    "            n_gen_acceptance += 1\n",
    "\n",
    "    print(n_gen_acceptance)"
   ]
  },
  {
   "cell_type": "code",
   "execution_count": 16,
   "metadata": {},
   "outputs": [
    {
     "name": "stdout",
     "output_type": "stream",
     "text": [
      "[-242 -531  405 -153  523   87   -5  278  243    0    0    0    0    0\n",
      "    0    0    0    0    0    0    0    0    0    0    0    0    0    0\n",
      "    0    0    0    0    0    0    0    0    0    0    0    0    0    0\n",
      "    0    0    0    0    0    0    0    0    0    0    0    0    0    0\n",
      "    0    0    0    0    0    0    0    0    0    0    0    0    0    0\n",
      "    0    0    0    0    0    0    0    0    0    0    0    0    0    0\n",
      "    0    0    0    0    0    0    0    0    0    0    0    0    0    0\n",
      "    0    0    0    0    0    0]\n"
     ]
    }
   ],
   "source": [
    "import h5py\n",
    "\n",
    "DATA_PATH = \"/home/giovanni/pod/thesis/code/scripts-sources/W3Pi-selection-algorithm/data/\"\n",
    "file = \"PuppiSignal_104.hdf5\"\n",
    "\n",
    "with h5py.File(DATA_PATH + file, \"r\") as f:\n",
    "    event = f[str(1)][()]\n",
    "\n",
    "    c = {\"pdg_id\": 0, \"phi\": 1, \"eta\": 2, \"pt\": 3}\n",
    "    ev_size = f.attrs[\"ev_size\"]\n",
    "\n",
    "    pdg_ids      = event[:,c[\"pdg_id\"]].astype(\"int32\")\n",
    "    phis         = event[:,c[\"phi\"]].astype(\"int32\")\n",
    "    etas         = event[:,c[\"eta\"]].astype(\"int32\")\n",
    "    pts          = event[:,c[\"pt\"]].astype(\"int32\")\n",
    "\n",
    "    print(etas)"
   ]
  }
 ],
 "metadata": {
  "kernelspec": {
   "display_name": "test-env",
   "language": "python",
   "name": "python3"
  },
  "language_info": {
   "codemirror_mode": {
    "name": "ipython",
    "version": 3
   },
   "file_extension": ".py",
   "mimetype": "text/x-python",
   "name": "python",
   "nbconvert_exporter": "python",
   "pygments_lexer": "ipython3",
   "version": "3.11.6"
  }
 },
 "nbformat": 4,
 "nbformat_minor": 2
}
