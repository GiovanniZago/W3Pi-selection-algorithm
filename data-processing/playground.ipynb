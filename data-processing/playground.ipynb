{
 "cells": [
  {
   "cell_type": "code",
   "execution_count": 56,
   "metadata": {},
   "outputs": [
    {
     "name": "stdout",
     "output_type": "stream",
     "text": [
      "Events with matched triplet\n",
      "[1, 6, 9, 22, 24, 28, 37, 38, 41, 48, 56, 57, 66, 68, 79, 80, 88, 90, 104, 117, 131, 132, 134, 135, 139, 142, 145, 146, 151, 158, 161, 165, 174, 177, 184, 187, 188, 201, 202, 210, 215, 219, 224, 237, 242, 245, 249, 250, 252, 257, 260, 261, 262, 263, 266, 270, 273, 274, 277, 296, 298, 300, 303, 321, 324, 325, 329, 334, 342, 345, 349, 350, 352, 353, 354, 355, 357, 363, 368, 372, 377, 382, 383, 385, 388, 389, 390, 399, 401, 407, 419, 420, 421, 422, 424, 428, 436, 440, 442, 445, 452, 456, 459, 467, 470, 471, 472, 475, 476, 483, 486, 489, 504, 505, 516, 519, 533, 536, 543, 544, 548, 560, 561, 564, 573, 576, 578, 589, 590, 611, 612, 614, 616, 617, 618, 622, 623, 625, 632, 637, 639, 646, 649, 654, 663, 674, 677, 680, 683, 684, 694, 696, 699, 700, 701, 704, 710, 724, 726, 730, 732, 736, 749, 751, 753, 755, 761, 762, 778, 779, 789, 791, 800, 801, 805, 809, 812, 813, 823, 826, 828, 830, 834, 840, 845, 849, 861, 866, 873, 875, 877, 883, 884, 885, 886, 891, 896, 897, 899, 910, 912, 921, 928, 930, 934, 936, 943, 947, 948, 949, 950, 952, 961, 967, 968, 971, 980, 992, 999]\n",
      "Looking at event #28\n",
      "Triplets: [8, 15, 19]\n",
      "Pt groups: [2, 2, 2]\n",
      "W gen mass: 80.25\n"
     ]
    }
   ],
   "source": [
    "import uproot\n",
    "import awkward as ak\n",
    "\n",
    "DATA_PATH = \"/home/giovanni/pod/thesis/code/scripts-sources/W3Pi-selection-algorithm/data/\"\n",
    "\n",
    "\n",
    "with uproot.open(DATA_PATH + \"l1Nano_WTo3Pion_genmatched_PU200.root\") as f:\n",
    "    tree = f.get(\"genmatched_tree\")\n",
    "    branches = tree.arrays()\n",
    "\n",
    "    print(\"Events with matched triplet\")\n",
    "    print(branches[\"ev_idx\"].tolist())\n",
    "\n",
    "    which_event = 5\n",
    "    print(f\"Looking at event #{branches['ev_idx'][which_event]}\")\n",
    "    print(f\"Triplets: {branches['part_idxs'][which_event]}\")\n",
    "    print(f\"Pt groups: {branches['pt_groups'][which_event]}\")\n",
    "    print(f\"W gen mass: {branches['gen_mass'][which_event]}\")"
   ]
  },
  {
   "cell_type": "code",
   "execution_count": 55,
   "metadata": {},
   "outputs": [
    {
     "name": "stdout",
     "output_type": "stream",
     "text": [
      "[211, 211, 211, 211, -211, -211, -211, ..., 211, 211, 130, -211, 211, -211]\n"
     ]
    }
   ],
   "source": [
    "with uproot.open(DATA_PATH + \"l1Nano_WTo3Pion_PU200.root\") as f:\n",
    "    tree = f.get(\"Events\")\n",
    "    branches = tree.arrays()\n",
    "\n",
    "    print(branches[\"Puppi_pdgId\"][9])"
   ]
  },
  {
   "cell_type": "code",
   "execution_count": 57,
   "metadata": {},
   "outputs": [
    {
     "name": "stdout",
     "output_type": "stream",
     "text": [
      "[[8, 15, 19], [8, 19, 23]]\n"
     ]
    }
   ],
   "source": [
    "with uproot.open(DATA_PATH + \"l1Nano_WTo3Pion_reco_PU200.root\") as f:\n",
    "    tree = f.get(\"reco_tree\")\n",
    "    branches = tree.arrays()\n",
    "\n",
    "    ev_idxs = branches[\"ev_idx\"]    \n",
    "    part_idxs = branches[\"part_idxs\"]\n",
    "    part_idxs = part_idxs[ev_idxs == 28]\n",
    "    print(part_idxs.tolist())"
   ]
  }
 ],
 "metadata": {
  "kernelspec": {
   "display_name": "test-env",
   "language": "python",
   "name": "python3"
  },
  "language_info": {
   "codemirror_mode": {
    "name": "ipython",
    "version": 3
   },
   "file_extension": ".py",
   "mimetype": "text/x-python",
   "name": "python",
   "nbconvert_exporter": "python",
   "pygments_lexer": "ipython3",
   "version": "3.11.6"
  }
 },
 "nbformat": 4,
 "nbformat_minor": 2
}
