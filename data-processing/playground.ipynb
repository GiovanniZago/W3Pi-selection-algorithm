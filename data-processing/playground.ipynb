{
 "cells": [
  {
   "cell_type": "code",
   "execution_count": 93,
   "metadata": {},
   "outputs": [
    {
     "name": "stdout",
     "output_type": "stream",
     "text": [
      "    Puppi_pdgId  Puppi_GenPiIdx\n",
      "0           211              -1\n",
      "1           211              -1\n",
      "2           211              -1\n",
      "3            11              -1\n",
      "4           211              -1\n",
      "5           211              -1\n",
      "6           211              -1\n",
      "7          -211              -1\n",
      "8          -211              -1\n",
      "9           211              -1\n",
      "10         -211              -1\n",
      "11          211              -1\n",
      "12         -211              -1\n",
      "13          211              -1\n",
      "14          130              -1\n",
      "15          211              -1\n",
      "16         -211              -1\n",
      "17         -211               0\n",
      "18         -211               1\n",
      "19          130              -1\n",
      "20           22              -1\n",
      "21           22              -1\n",
      "22         -211              -1\n",
      "23         -211              -1\n",
      "24          211              -1\n",
      "25          211               2\n",
      "26          211              -1\n",
      "27          211              -1\n",
      "28          211              -1\n",
      "29          130              -1\n",
      "30         -211              -1\n",
      "31           22              -1\n",
      "32          211              -1\n"
     ]
    }
   ],
   "source": [
    "DATA_PATH = \"/home/giovanni/pod/thesis/code/scripts-sources/W3Pi-selection-algorithm/data/\"\n",
    "\n",
    "import uproot\n",
    "import awkward as ak\n",
    "import numpy as np\n",
    "import pandas as pd\n",
    "\n",
    "with uproot.open(DATA_PATH + \"l1Nano_WTo3Pion_PU200.root\") as f:\n",
    "    tree = f.get(\"Events\")\n",
    "\n",
    "    # assign the columns (branches) for the tree FOR EACH EVENT to branches\n",
    "    branches = tree.arrays()\n",
    "\n",
    "    \n",
    "    event_idx = 6\n",
    "    event = branches[event_idx]\n",
    "    \n",
    "    GenW_mass = event[\"GenW_mass\"]\n",
    "    nPuppi = event[\"nPuppi\"]\n",
    "\n",
    "    columns = [\"Puppi_pdgId\", \"Puppi_GenPiIdx\"]\n",
    "    df_data = {col: event[col] for col in columns}\n",
    "    df = pd.DataFrame(df_data)\n",
    "    print(df)\n",
    "    "
   ]
  }
 ],
 "metadata": {
  "kernelspec": {
   "display_name": "test-env",
   "language": "python",
   "name": "python3"
  },
  "language_info": {
   "codemirror_mode": {
    "name": "ipython",
    "version": 3
   },
   "file_extension": ".py",
   "mimetype": "text/x-python",
   "name": "python",
   "nbconvert_exporter": "python",
   "pygments_lexer": "ipython3",
   "version": "3.11.6"
  }
 },
 "nbformat": 4,
 "nbformat_minor": 2
}
