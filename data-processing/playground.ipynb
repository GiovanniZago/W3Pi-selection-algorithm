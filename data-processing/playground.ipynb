{
 "cells": [
  {
   "cell_type": "code",
   "execution_count": 1,
   "metadata": {},
   "outputs": [],
   "source": [
    "import uproot\n",
    "import awkward as ak\n",
    "import matplotlib.pyplot as plt\n",
    "import numpy as np\n",
    "import h5py\n",
    "\n",
    "DATA_PATH = \"/home/giovanni/pod/thesis/code/scripts-sources/W3Pi-selection-algorithm/data/\""
   ]
  },
  {
   "cell_type": "code",
   "execution_count": 46,
   "metadata": {},
   "outputs": [
    {
     "name": "stdout",
     "output_type": "stream",
     "text": [
      "['run', 'luminosityBlock', 'event', 'bunchCrossing', 'orbitNumber', 'nEle', 'Ele_hwEta', 'Ele_hwPhi', 'Ele_hwPt', 'Ele_hwQual', 'Ele_quality', 'Ele_eta', 'Ele_idScore', 'Ele_mass', 'Ele_phi', 'Ele_pt', 'Ele_puppiIsol', 'Ele_puppiIsolPV', 'Ele_trkIsol', 'Ele_trkIsolPV', 'Ele_z0', 'nGenEle', 'GenEle_isFromTau', 'GenEle_isPrompt', 'GenEle_motherId', 'GenEle_dxy', 'GenEle_eta', 'GenEle_mass', 'GenEle_phi', 'GenEle_pt', 'GenEle_z0', 'nGenJet', 'GenJet_eta', 'GenJet_mass', 'GenJet_phi', 'GenJet_pt', 'nGenPho', 'GenPho_isFromTau', 'GenPho_isPrompt', 'GenPho_motherId', 'GenPho_dxy', 'GenPho_eta', 'GenPho_mass', 'GenPho_phi', 'GenPho_pt', 'GenPho_z0', 'nGenPi', 'GenPi_charge', 'GenPi_pdgId', 'GenPi_prompt', 'GenPi_eta', 'GenPi_mass', 'GenPi_phi', 'GenPi_pt', 'GenPi_z0', 'GenVtx_x', 'GenVtx_y', 'GenVtx_z', 'nGenW', 'GenW_charge', 'GenW_pdgId', 'GenW_eta', 'GenW_mass', 'GenW_phi', 'GenW_pt', 'GenW_z0', 'nL1Vtx', 'L1Vtx_sumpt', 'L1Vtx_z', 'nPho', 'Pho_hwEta', 'Pho_hwPhi', 'Pho_hwPt', 'Pho_hwQual', 'Pho_quality', 'Pho_eta', 'Pho_mass', 'Pho_phi', 'Pho_pt', 'Pho_puppiIsol', 'Pho_puppiIsolPV', 'Pho_trkIsol', 'Pho_trkIsolPV', 'nPuppiJet', 'PuppiJet_eta', 'PuppiJet_mass', 'PuppiJet_phi', 'PuppiJet_pt', 'PuppiJet_btagScore', 'nPuppi', 'Puppi_charge', 'Puppi_pdgId', 'Puppi_eta', 'Puppi_mass', 'Puppi_phi', 'Puppi_pt', 'Puppi_z0', 'Ele_GenEleFlav', 'Ele_GenEleIdx', 'Pho_GenPhoFlav', 'Pho_GenPhoIdx', 'Puppi_GenPiFlav', 'Puppi_GenPiIdx']\n",
      "[-1, -1, -1, -1, -1, -1, -1, -1, -1, -1, -1, -1, -1, -1, -1, -1, -1, -1, -1, -1, -1, -1, -1, -1, -1, -1, 1, -1, -1, -1, -1, 0, -1]\n"
     ]
    }
   ],
   "source": [
    "with uproot.open(DATA_PATH + \"l1Nano_WTo3Pion_PU200.root\") as f:\n",
    "    tree = f.get(\"Events\")\n",
    "    print(tree.keys())\n",
    "\n",
    "    branches = tree.arrays()\n",
    "    genPi_etas = branches[\"GenPi_eta\"].to_numpy()\n",
    "    genPi_pts = branches[\"GenPi_pt\"].to_numpy()\n",
    "    Puppi_pdgId = branches[\"Puppi_pdgId\"]\n",
    "    genPi_idx = branches[\"Puppi_GenPiIdx\"]\n",
    "    print(genPi_idx[4].tolist())\n",
    "    "
   ]
  },
  {
   "cell_type": "code",
   "execution_count": 5,
   "metadata": {},
   "outputs": [
    {
     "name": "stdout",
     "output_type": "stream",
     "text": [
      "[5 6 3]\n",
      "9\n"
     ]
    }
   ],
   "source": [
    "file = DATA_PATH + \"l1Nano_WTo3Pion_PU200.hdf5\"\n",
    "\n",
    "with h5py.File(file, \"r\") as f:\n",
    "    print(f[\"1\"].attrs[\"genmatch_pi_triplet\"])\n",
    "    print(f[\"1\"].attrs[\"n_puppi\"])"
   ]
  },
  {
   "cell_type": "code",
   "execution_count": 25,
   "metadata": {},
   "outputs": [
    {
     "name": "stdout",
     "output_type": "stream",
     "text": [
      "hello\n"
     ]
    }
   ],
   "source": []
  }
 ],
 "metadata": {
  "kernelspec": {
   "display_name": "test-env",
   "language": "python",
   "name": "python3"
  },
  "language_info": {
   "codemirror_mode": {
    "name": "ipython",
    "version": 3
   },
   "file_extension": ".py",
   "mimetype": "text/x-python",
   "name": "python",
   "nbconvert_exporter": "python",
   "pygments_lexer": "ipython3",
   "version": "3.11.6"
  }
 },
 "nbformat": 4,
 "nbformat_minor": 2
}
